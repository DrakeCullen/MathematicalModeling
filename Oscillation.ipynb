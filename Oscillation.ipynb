{
 "cells": [
  {
   "cell_type": "code",
   "execution_count": 1,
   "id": "4d5df8e3",
   "metadata": {},
   "outputs": [],
   "source": [
    "#%matplotlib notebook\n",
    "#%matplotlib inline\n",
    "import numpy as np\n",
    "import matplotlib as mpl\n",
    "import matplotlib.pyplot as plt\n",
    "from ipywidgets import interact, interactive, fixed, interact_manual\n",
    "import ipywidgets as widgets\n",
    "import math\n",
    "from matplotlib.animation import FuncAnimation"
   ]
  },
  {
   "cell_type": "code",
   "execution_count": 2,
   "id": "934214df",
   "metadata": {},
   "outputs": [],
   "source": [
    "out = widgets.Output(layout=widgets.Layout(height='300px'))\n",
    "aWidget = widgets.IntSlider(min=-10, max=10, step=1, value=1)\n",
    "ωWidget = widgets.IntSlider(min=-10, max=10, step=1, value=1)\n",
    "tMinWidget = widgets.IntSlider(min=-100, max=100, step=1, value=1)\n",
    "tMaxWidget = widgets.IntSlider(min=-100, max=100, step=1, value=20)\n",
    "δWidget = widgets.IntSlider(min=-10, max=10, step=1, value=0)"
   ]
  },
  {
   "cell_type": "code",
   "execution_count": 5,
   "id": "12a30ff0",
   "metadata": {},
   "outputs": [
    {
     "data": {
      "application/vnd.jupyter.widget-view+json": {
       "model_id": "e47efba7201842d0bb7ba91d253d943f",
       "version_major": 2,
       "version_minor": 0
      },
      "text/plain": [
       "interactive(children=(IntSlider(value=1, description='A', max=10, min=-10), IntSlider(value=1, description='ω'…"
      ]
     },
     "metadata": {},
     "output_type": "display_data"
    },
    {
     "data": {
      "text/plain": [
       "<function __main__.f(A, ω, tMin, tMax, δ)>"
      ]
     },
     "execution_count": 5,
     "metadata": {},
     "output_type": "execute_result"
    }
   ],
   "source": [
    "def f(A,ω,tMin,tMax,δ):\n",
    "    time=np.arange(tMin, tMax, 0.2);\n",
    "    amplitude= A*np.cos(ω*time+δ)\n",
    "    plt.plot(time,amplitude)\n",
    "    plt.title(\"Simple Harmonic Motion\")\n",
    "    plt.xlabel('Time', fontsize=14)\n",
    "    plt.ylabel('Position', fontsize=14)\n",
    "\n",
    "interact(f, A=aWidget, ω=ωWidget,tMin=tMinWidget,tMax=tMaxWidget,δ=δWidget)    "
   ]
  },
  {
   "cell_type": "code",
   "execution_count": 4,
   "id": "b0ae7029",
   "metadata": {},
   "outputs": [
    {
     "data": {
      "image/png": "[encoded data removed]",
      "text/plain": [
       "<Figure size 432x288 with 1 Axes>"
      ]
     },
     "metadata": {
      "needs_background": "light"
     },
     "output_type": "display_data"
    }
   ],
   "source": [
    "x=np.arange(0,4*np.pi,0.1)\n",
    "y=np.sin(x)\n",
    "fig, ax = plt.subplots()\n",
    "line, = ax.plot([])     # A tuple unpacking to unpack the only plot\n",
    "ax.set_xlim(0, 2*np.pi)\n",
    "ax.set_ylim(-10.1, 10.1)\n",
    "\n",
    "A = 3\n",
    "m = 2\n",
    "\n",
    "def animate(frame_num):\n",
    "    y = A * np.cos(m * x + 2*np.pi * frame_num/100) - (x)\n",
    "    line.set_data((x, y))\n",
    "    return line\n",
    "\n",
    "anim = FuncAnimation(fig, animate, frames=100, interval=20)\n",
    "plt.show()"
   ]
  },
  {
   "cell_type": "code",
   "execution_count": null,
   "id": "e4bb5d6f",
   "metadata": {},
   "outputs": [],
   "source": []
  }
 ],
 "metadata": {
  "kernelspec": {
   "display_name": "Python 3 (ipykernel)",
   "language": "python",
   "name": "python3"
  },
  "language_info": {
   "codemirror_mode": {
    "name": "ipython",
    "version": 3
   },
   "file_extension": ".py",
   "mimetype": "text/x-python",
   "name": "python",
   "nbconvert_exporter": "python",
   "pygments_lexer": "ipython3",
   "version": "3.9.7"
  }
 },
 "nbformat": 4,
 "nbformat_minor": 5
}
